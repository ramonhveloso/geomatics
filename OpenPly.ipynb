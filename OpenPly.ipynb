{
  "nbformat": 4,
  "nbformat_minor": 0,
  "metadata": {
    "colab": {
      "name": "PLY.ipynb",
      "provenance": [],
      "authorship_tag": "ABX9TyMFy01cGIMfcaB164COzplF",
      "include_colab_link": true
    },
    "kernelspec": {
      "name": "python3",
      "display_name": "Python 3"
    },
    "language_info": {
      "name": "python"
    }
  },
  "cells": [
    {
      "cell_type": "markdown",
      "metadata": {
        "id": "view-in-github",
        "colab_type": "text"
      },
      "source": [
        "<a href=\"https://colab.research.google.com/github/ramonhveloso/geomatics/blob/main/OpenPly.ipynb\" target=\"_parent\"><img src=\"https://colab.research.google.com/assets/colab-badge.svg\" alt=\"Open In Colab\"/></a>"
      ]
    },
    {
      "cell_type": "code",
      "metadata": {
        "id": "HLtfPkZGRxx5"
      },
      "source": [
        "pip install pymesh"
      ],
      "execution_count": null,
      "outputs": []
    },
    {
      "cell_type": "code",
      "metadata": {
        "id": "y4lQoyTGZKCW"
      },
      "source": [
        "import plotly.graph_objects as go\n",
        "import pandas as pd\n",
        "import numpy as np\n",
        "from pyntcloud import PyntCloud\n",
        "import open3d as o3d\n",
        "import meshio\n",
        "import pymesh"
      ],
      "execution_count": null,
      "outputs": []
    },
    {
      "cell_type": "markdown",
      "metadata": {
        "id": "CgcknHjTReYT"
      },
      "source": [
        "PyntCloud"
      ]
    },
    {
      "cell_type": "code",
      "metadata": {
        "id": "3Hfxw0_rLYWc"
      },
      "source": [
        "ply = PyntCloud.from_file(\"/content/Araras_Local1_group1_densified_point_cloud_part_1.ply\")\n",
        "ply.plot()"
      ],
      "execution_count": null,
      "outputs": []
    },
    {
      "cell_type": "markdown",
      "metadata": {
        "id": "berykGEYe2yZ"
      },
      "source": [
        "Open 3d"
      ]
    },
    {
      "cell_type": "code",
      "metadata": {
        "id": "44fd7BZae3Au"
      },
      "source": [
        "input_file = \"/content/Araras_Local1_group1_densified_point_cloud_part_1.ply\"\n",
        "pcd = o3d.io.read_point_cloud(input_file)\n",
        "o3d.visualization.draw_geometries([pcd]) \n",
        "# Convert open3d format to numpy array\n",
        "# Here, you have the point cloud in numpy format. \n",
        "point_cloud_in_numpy = np.asarray(pcd.points)"
      ],
      "execution_count": null,
      "outputs": []
    },
    {
      "cell_type": "markdown",
      "metadata": {
        "id": "6mjS34BpSUdo"
      },
      "source": [
        "Meshio"
      ]
    },
    {
      "cell_type": "code",
      "metadata": {
        "id": "D7Qf5dz3Svty"
      },
      "source": [
        "mesh = meshio.read(\"/content/Araras_Local1_group1_densified_point_cloud_part_1.ply\")\n",
        "# mesh.points, mesh.cells, ..."
      ],
      "execution_count": null,
      "outputs": []
    },
    {
      "cell_type": "markdown",
      "metadata": {
        "id": "a3NZbw1ZTa-V"
      },
      "source": [
        "Pymesh"
      ]
    },
    {
      "cell_type": "code",
      "metadata": {
        "id": "DUPqcHc0TatE"
      },
      "source": [
        "mesh = pymesh.load_mesh(\"/content/Araras_Local1_group1_densified_point_cloud_part_1.ply\")\n",
        "mesh"
      ],
      "execution_count": null,
      "outputs": []
    },
    {
      "cell_type": "markdown",
      "metadata": {
        "id": "BcGz_O25YLXl"
      },
      "source": [
        "Plyfile"
      ]
    },
    {
      "cell_type": "code",
      "metadata": {
        "id": "gomhHymrYLEA"
      },
      "source": [
        "def load_mesh(mesh_file):\n",
        "    with open(mesh_file, 'r') as f:\n",
        "        str_file = f.read().split('\\n')\n",
        "        n_vertices, n_faces, _ = list(\n",
        "            map(lambda x: int(x), str_file[1].split(' ')))\n",
        "        str_file = str_file[2:]  # Remove first 2 lines\n",
        "\n",
        "        v = [l.split(' ') for l in str_file[:n_vertices]]\n",
        "        f = [l.split(' ') for l in str_file[n_vertices:]]\n",
        "\n",
        "    v = np.array(v).astype(np.float32)\n",
        "    f = np.array(f).astype(np.uint64)[:, 1:4]\n",
        "\n",
        "    mesh = trimesh.Trimesh(vertices=v, faces=f, process=False)\n",
        "\n",
        "    return mesh \n",
        "load_mesh(\"/content/Araras_Local1_group1_densified_point_cloud_part_1.ply\")"
      ],
      "execution_count": null,
      "outputs": []
    }
  ]
}