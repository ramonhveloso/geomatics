{
  "nbformat": 4,
  "nbformat_minor": 0,
  "metadata": {
    "colab": {
      "name": "GeoPy.ipynb",
      "provenance": [],
      "collapsed_sections": [],
      "include_colab_link": true
    },
    "kernelspec": {
      "name": "python3",
      "display_name": "Python 3"
    },
    "language_info": {
      "name": "python"
    }
  },
  "cells": [
    {
      "cell_type": "markdown",
      "metadata": {
        "id": "view-in-github",
        "colab_type": "text"
      },
      "source": [
        "<a href=\"https://colab.research.google.com/github/ramonhveloso/geomatics1/blob/main/GeoPy.ipynb\" target=\"_parent\"><img src=\"https://colab.research.google.com/assets/colab-badge.svg\" alt=\"Open In Colab\"/></a>"
      ]
    },
    {
      "cell_type": "markdown",
      "metadata": {
        "id": "bl8pdilY1nhC"
      },
      "source": [
        "* **ACESSANDO PLANILHA NO GOOGLE SHEETS**"
      ]
    },
    {
      "cell_type": "code",
      "metadata": {
        "id": "YWtMwhF35yai"
      },
      "source": [
        "import pandas as pd\n",
        "import numpy as np\n",
        "import geopandas as gpds\n",
        "import shapely.geometry\n",
        "import geopy\n",
        "from geopy.geocoders import Nominatim"
      ],
      "execution_count": null,
      "outputs": []
    },
    {
      "cell_type": "markdown",
      "metadata": {
        "id": "FqG96MU_1M0x"
      },
      "source": [
        "*  **ACESSANDO PLANILHA**"
      ]
    },
    {
      "cell_type": "code",
      "metadata": {
        "id": "SlrWY1qm0r-L"
      },
      "source": [
        "spreadsheet = gc.open('Arquivo')\n",
        "page = spreadsheet.sheet1"
      ],
      "execution_count": null,
      "outputs": []
    },
    {
      "cell_type": "code",
      "metadata": {
        "id": "6ZjYsUM31A_S",
        "colab": {
          "base_uri": "https://localhost:8080/",
          "height": 419
        },
        "outputId": "af60cb0f-7df1-4269-d65e-4135dde211c1"
      },
      "source": [
        "Data = pd.DataFrame(page.get_all_records())\n",
        "display(Data)"
      ],
      "execution_count": null,
      "outputs": [
        {
          "output_type": "display_data",
          "data": {
            "text/html": [
              "<div>\n",
              "<style scoped>\n",
              "    .dataframe tbody tr th:only-of-type {\n",
              "        vertical-align: middle;\n",
              "    }\n",
              "\n",
              "    .dataframe tbody tr th {\n",
              "        vertical-align: top;\n",
              "    }\n",
              "\n",
              "    .dataframe thead th {\n",
              "        text-align: right;\n",
              "    }\n",
              "</style>\n",
              "<table border=\"1\" class=\"dataframe\">\n",
              "  <thead>\n",
              "    <tr style=\"text-align: right;\">\n",
              "      <th></th>\n",
              "      <th>DADOS FORNECIDOS PELA ACCENTURE</th>\n",
              "      <th></th>\n",
              "    </tr>\n",
              "  </thead>\n",
              "  <tbody>\n",
              "    <tr>\n",
              "      <th>0</th>\n",
              "      <td>SITES</td>\n",
              "      <td>LAT/LONG</td>\n",
              "    </tr>\n",
              "    <tr>\n",
              "      <th>1</th>\n",
              "      <td>VZBSP</td>\n",
              "      <td>-23.525789, -46.659333</td>\n",
              "    </tr>\n",
              "    <tr>\n",
              "      <th>2</th>\n",
              "      <td>PNPSP</td>\n",
              "      <td>-22.720944, -47.665958</td>\n",
              "    </tr>\n",
              "    <tr>\n",
              "      <th>3</th>\n",
              "      <td>SBFSP</td>\n",
              "      <td>-22.759503, -47.394942</td>\n",
              "    </tr>\n",
              "    <tr>\n",
              "      <th>4</th>\n",
              "      <td>DSGSP</td>\n",
              "      <td>-21.656117, -50.010461</td>\n",
              "    </tr>\n",
              "    <tr>\n",
              "      <th>...</th>\n",
              "      <td>...</td>\n",
              "      <td>...</td>\n",
              "    </tr>\n",
              "    <tr>\n",
              "      <th>246</th>\n",
              "      <td>AJASP</td>\n",
              "      <td>-22.709356, -46.768878</td>\n",
              "    </tr>\n",
              "    <tr>\n",
              "      <th>247</th>\n",
              "      <td>BSLSP</td>\n",
              "      <td>-23.795586, -45.999667</td>\n",
              "    </tr>\n",
              "    <tr>\n",
              "      <th>248</th>\n",
              "      <td>AJPSP</td>\n",
              "      <td>-23.392578, -46.280569</td>\n",
              "    </tr>\n",
              "    <tr>\n",
              "      <th>249</th>\n",
              "      <td>DPGSP</td>\n",
              "      <td>-21.890878, -46.863489</td>\n",
              "    </tr>\n",
              "    <tr>\n",
              "      <th>250</th>\n",
              "      <td>BVASP</td>\n",
              "      <td>-23.814669, -46.094453</td>\n",
              "    </tr>\n",
              "  </tbody>\n",
              "</table>\n",
              "<p>251 rows × 2 columns</p>\n",
              "</div>"
            ],
            "text/plain": [
              "    DADOS FORNECIDOS PELA ACCENTURE                        \n",
              "0                             SITES                LAT/LONG\n",
              "1                             VZBSP  -23.525789, -46.659333\n",
              "2                             PNPSP  -22.720944, -47.665958\n",
              "3                             SBFSP  -22.759503, -47.394942\n",
              "4                             DSGSP  -21.656117, -50.010461\n",
              "..                              ...                     ...\n",
              "246                           AJASP  -22.709356, -46.768878\n",
              "247                           BSLSP  -23.795586, -45.999667\n",
              "248                           AJPSP  -23.392578, -46.280569\n",
              "249                           DPGSP  -21.890878, -46.863489\n",
              "250                           BVASP  -23.814669, -46.094453\n",
              "\n",
              "[251 rows x 2 columns]"
            ]
          },
          "metadata": {}
        }
      ]
    },
    {
      "cell_type": "markdown",
      "metadata": {
        "id": "VqEi234L6VOv"
      },
      "source": [
        "* **TRANFORMANDO ENDEREÇO EM COORDENAS:**"
      ]
    },
    {
      "cell_type": "markdown",
      "metadata": {
        "id": "LgQ2Zut0AUg0"
      },
      "source": [
        " Apenas um endereço:"
      ]
    },
    {
      "cell_type": "code",
      "metadata": {
        "id": "ksYPcV9w6hgq",
        "colab": {
          "base_uri": "https://localhost:8080/",
          "height": 80
        },
        "outputId": "42f04238-e906-4bfe-e37e-c39564040ac3"
      },
      "source": [
        "Cidade = 'Curitiba, PR'\n",
        "gpds.tools.geocode(Cidade, provider = Nominatim, user_agent = 'Intro Geocode', country_bias = 'Brazil' )"
      ],
      "execution_count": null,
      "outputs": [
        {
          "output_type": "execute_result",
          "data": {
            "text/html": [
              "<div>\n",
              "<style scoped>\n",
              "    .dataframe tbody tr th:only-of-type {\n",
              "        vertical-align: middle;\n",
              "    }\n",
              "\n",
              "    .dataframe tbody tr th {\n",
              "        vertical-align: top;\n",
              "    }\n",
              "\n",
              "    .dataframe thead th {\n",
              "        text-align: right;\n",
              "    }\n",
              "</style>\n",
              "<table border=\"1\" class=\"dataframe\">\n",
              "  <thead>\n",
              "    <tr style=\"text-align: right;\">\n",
              "      <th></th>\n",
              "      <th>geometry</th>\n",
              "      <th>address</th>\n",
              "    </tr>\n",
              "  </thead>\n",
              "  <tbody>\n",
              "    <tr>\n",
              "      <th>0</th>\n",
              "      <td>POINT (-49.27127 -25.42960)</td>\n",
              "      <td>Curitiba, Região Geográfica Imediata de Curiti...</td>\n",
              "    </tr>\n",
              "  </tbody>\n",
              "</table>\n",
              "</div>"
            ],
            "text/plain": [
              "                      geometry                                            address\n",
              "0  POINT (-49.27127 -25.42960)  Curitiba, Região Geográfica Imediata de Curiti..."
            ]
          },
          "metadata": {},
          "execution_count": 9
        }
      ]
    },
    {
      "cell_type": "markdown",
      "metadata": {
        "id": "kMf2dRDFAg2Y"
      },
      "source": [
        "Lista de endereços, e criando nova coluna na planilha com as novas coordenas:"
      ]
    },
    {
      "cell_type": "code",
      "metadata": {
        "id": "IrpUVPq072Wq"
      },
      "source": [
        "Cidades = Data['ENDEREÇO SITE']\n",
        "end['Geom'] = gpds.tools.geocode(Cidades, provider= Nominatim, user_agent = \"Intro Geocode\", country_bias = 'Brazil')['Geometry']\n",
        "end.head()\n",
        "end.Geom"
      ],
      "execution_count": null,
      "outputs": []
    },
    {
      "cell_type": "markdown",
      "metadata": {
        "id": "TDUL5RXl_Hxr"
      },
      "source": [
        "* **TRANSFORMANDO COORDENADAS EM ENDEREÇOS:**"
      ]
    },
    {
      "cell_type": "markdown",
      "metadata": {
        "id": "23vABZW-FVZk"
      },
      "source": [
        "Apenas uma coordenada:"
      ]
    },
    {
      "cell_type": "code",
      "metadata": {
        "id": "NhHuzV63_HVP",
        "colab": {
          "base_uri": "https://localhost:8080/"
        },
        "outputId": "73c4eb17-2433-4d6e-86e4-ff5d57d1eeb9"
      },
      "source": [
        "Coordenada = (\"-25.469503, -49.308312\")\n",
        "geolocator = Nominatim(user_agent=\"Intro Geocode\")\n",
        "location = geolocator.reverse(Coordenada)\n",
        "print(location)"
      ],
      "execution_count": null,
      "outputs": [
        {
          "output_type": "stream",
          "name": "stdout",
          "text": [
            "894, Rua Agostinho Merlin, Portão, Curitiba, Região Geográfica Imediata de Curitiba, Região Metropolitana de Curitiba, Região Geográfica Intermediária de Curitiba, Paraná, 80320300, Brasil\n"
          ]
        }
      ]
    },
    {
      "cell_type": "markdown",
      "metadata": {
        "id": "FOmc-LzoFcpP"
      },
      "source": [
        "Lista de Coordenadas, e criando nova coluna na planilha com os novos endereços:"
      ]
    },
    {
      "cell_type": "code",
      "metadata": {
        "id": "iujWnxSwFvHP"
      },
      "source": [
        "geolocator = Nominatim(user_agent=\"Intro Geocode\")\n",
        "y= Data.apply(lambda row: geopy.geocoders.osm.Nominatim(user_agent=\"Intro Geocode\").reverse(row['LAT/LONG']),axis = 1)\n",
        "print(y)"
      ],
      "execution_count": null,
      "outputs": []
    },
    {
      "cell_type": "code",
      "metadata": {
        "id": "lVLrM6MCGAJT"
      },
      "source": [
        "Data['ENDEREÇOS CORDENADAS'] = [x.address for x in y]"
      ],
      "execution_count": null,
      "outputs": []
    },
    {
      "cell_type": "code",
      "metadata": {
        "id": "bDIu8BzHGU71"
      },
      "source": [
        "display(Data)"
      ],
      "execution_count": null,
      "outputs": []
    },
    {
      "cell_type": "code",
      "metadata": {
        "id": "GbZVCIF3OQPx"
      },
      "source": [
        "Data.info"
      ],
      "execution_count": null,
      "outputs": []
    },
    {
      "cell_type": "markdown",
      "metadata": {
        "id": "BLL0znL76ocG"
      },
      "source": [
        "Criando nova pagina na Planilha"
      ]
    },
    {
      "cell_type": "code",
      "metadata": {
        "id": "27ny4KoIKKL3"
      },
      "source": [
        "alt_python = spreadsheet.add_worksheet('Dados2.py', rows = 250, cols= 11)\n"
      ],
      "execution_count": null,
      "outputs": []
    },
    {
      "cell_type": "markdown",
      "metadata": {
        "id": "aq8usLJyA8X5"
      },
      "source": [
        "Adiciona os valores a planilha"
      ]
    },
    {
      "cell_type": "code",
      "metadata": {
        "id": "RQMwiqocK2OH"
      },
      "source": [
        "alt_python.update([Data.columns.values.tolist()] + Data.values.tolist())\n"
      ],
      "execution_count": null,
      "outputs": []
    }
  ]
}
